{
 "cells": [
  {
   "cell_type": "code",
   "execution_count": 1,
   "id": "0adce234",
   "metadata": {},
   "outputs": [
    {
     "data": {
      "text/plain": [
       "(20640, 8)"
      ]
     },
     "execution_count": 1,
     "metadata": {},
     "output_type": "execute_result"
    }
   ],
   "source": [
    "from sklearn import datasets\n",
    "housing = datasets.fetch_california_housing()\n",
    "x = housing.data\n",
    "y = housing.target\n",
    "x.shape"
   ]
  },
  {
   "cell_type": "code",
   "execution_count": 7,
   "id": "580e5877",
   "metadata": {},
   "outputs": [
    {
     "name": "stdout",
     "output_type": "stream",
     "text": [
      "['MedInc', 'HouseAge', 'AveRooms', 'AveBedrms', 'Population', 'AveOccup', 'Latitude', 'Longitude']\n",
      "   MedInc  HouseAge  AveRooms  AveBedrms  Population  AveOccup  Latitude  \\\n",
      "0  8.3252      41.0  6.984127   1.023810       322.0  2.555556     37.88   \n",
      "1  8.3014      21.0  6.238137   0.971880      2401.0  2.109842     37.86   \n",
      "2  7.2574      52.0  8.288136   1.073446       496.0  2.802260     37.85   \n",
      "3  5.6431      52.0  5.817352   1.073059       558.0  2.547945     37.85   \n",
      "4  3.8462      52.0  6.281853   1.081081       565.0  2.181467     37.85   \n",
      "\n",
      "   Longitude  MedInc_Squared  HouseAge_Squared  ...  AveBedrms_x_Population  \\\n",
      "0    -122.23       69.308955            1681.0  ...              329.666667   \n",
      "1    -122.22       68.913242             441.0  ...             2333.485062   \n",
      "2    -122.24       52.669855            2704.0  ...              532.429379   \n",
      "3    -122.25       31.844578            2704.0  ...              598.767123   \n",
      "4    -122.25       14.793254            2704.0  ...              610.810811   \n",
      "\n",
      "   AveBedrms_x_AveOccup  AveBedrms_x_Latitude  AveBedrms_x_Longitude  \\\n",
      "0              2.616402             38.781905            -125.140238   \n",
      "1              2.050514             36.795395            -118.783234   \n",
      "2              3.008076             40.629944            -131.218079   \n",
      "3              2.734096             40.615297            -131.181507   \n",
      "4              2.358343             40.918919            -132.162162   \n",
      "\n",
      "   Population_x_AveOccup  Population_x_Latitude  Population_x_Longitude  \\\n",
      "0             822.888889               12197.36               -39358.06   \n",
      "1            5065.730228               90901.86              -293450.22   \n",
      "2            1389.920904               18773.60               -60631.04   \n",
      "3            1421.753425               21120.30               -68215.50   \n",
      "4            1232.528958               21385.25               -69071.25   \n",
      "\n",
      "   AveOccup_x_Latitude  AveOccup_x_Longitude  Latitude_x_Longitude  \n",
      "0            96.804444           -312.365556            -4630.0724  \n",
      "1            79.878612           -257.864868            -4627.2492  \n",
      "2           106.065537           -342.548249            -4626.7840  \n",
      "3            96.439726           -311.486301            -4627.1625  \n",
      "4            82.568533           -266.684363            -4627.1625  \n",
      "\n",
      "[5 rows x 44 columns]\n"
     ]
    },
    {
     "data": {
      "text/plain": [
       "(20640, 44)"
      ]
     },
     "execution_count": 7,
     "metadata": {},
     "output_type": "execute_result"
    }
   ],
   "source": [
    "import pandas as pd\n",
    "df = pd.DataFrame(x)\n",
    "print(housing.feature_names)\n",
    "df.columns = housing.feature_names\n",
    "\n",
    "# Add squared features\n",
    "for feature in housing.feature_names:\n",
    "    df[f\"{feature}_Squared\"] = df[feature] ** 2\n",
    "\n",
    "# Add features obtained by multiplying pairs of features\n",
    "for i, feature1 in enumerate(housing.feature_names):\n",
    "    for j, feature2 in enumerate(housing.feature_names):\n",
    "        if i < j:  # Avoid duplicate pairs\n",
    "            df[f\"{feature1}_x_{feature2}\"] = df[feature1] * df[feature2]\n",
    "\n",
    "df.describe()\n",
    "x2 = df.values #new input values with added features\n",
    "print(df.head())  # Display the dataframe with added features\n",
    "x2.shape\n",
    "\n",
    "#total columns - 8(previous) + 8(squared) + 28(2 Degree polinominals)"
   ]
  },
  {
   "cell_type": "code",
   "execution_count": 4,
   "id": "e10be30a",
   "metadata": {},
   "outputs": [],
   "source": [
    "from sklearn import model_selection\n",
    "x_train, x_test, y_train, y_test = model_selection.train_test_split(x, y, random_state = 0)\n",
    "x2_train, x2_test, y2_train, y2_test = model_selection.train_test_split(x2, y, random_state = 0)"
   ]
  },
  {
   "cell_type": "code",
   "execution_count": 5,
   "id": "981e1463",
   "metadata": {},
   "outputs": [
    {
     "data": {
      "text/html": [
       "<style>#sk-container-id-1 {color: black;}#sk-container-id-1 pre{padding: 0;}#sk-container-id-1 div.sk-toggleable {background-color: white;}#sk-container-id-1 label.sk-toggleable__label {cursor: pointer;display: block;width: 100%;margin-bottom: 0;padding: 0.3em;box-sizing: border-box;text-align: center;}#sk-container-id-1 label.sk-toggleable__label-arrow:before {content: \"▸\";float: left;margin-right: 0.25em;color: #696969;}#sk-container-id-1 label.sk-toggleable__label-arrow:hover:before {color: black;}#sk-container-id-1 div.sk-estimator:hover label.sk-toggleable__label-arrow:before {color: black;}#sk-container-id-1 div.sk-toggleable__content {max-height: 0;max-width: 0;overflow: hidden;text-align: left;background-color: #f0f8ff;}#sk-container-id-1 div.sk-toggleable__content pre {margin: 0.2em;color: black;border-radius: 0.25em;background-color: #f0f8ff;}#sk-container-id-1 input.sk-toggleable__control:checked~div.sk-toggleable__content {max-height: 200px;max-width: 100%;overflow: auto;}#sk-container-id-1 input.sk-toggleable__control:checked~label.sk-toggleable__label-arrow:before {content: \"▾\";}#sk-container-id-1 div.sk-estimator input.sk-toggleable__control:checked~label.sk-toggleable__label {background-color: #d4ebff;}#sk-container-id-1 div.sk-label input.sk-toggleable__control:checked~label.sk-toggleable__label {background-color: #d4ebff;}#sk-container-id-1 input.sk-hidden--visually {border: 0;clip: rect(1px 1px 1px 1px);clip: rect(1px, 1px, 1px, 1px);height: 1px;margin: -1px;overflow: hidden;padding: 0;position: absolute;width: 1px;}#sk-container-id-1 div.sk-estimator {font-family: monospace;background-color: #f0f8ff;border: 1px dotted black;border-radius: 0.25em;box-sizing: border-box;margin-bottom: 0.5em;}#sk-container-id-1 div.sk-estimator:hover {background-color: #d4ebff;}#sk-container-id-1 div.sk-parallel-item::after {content: \"\";width: 100%;border-bottom: 1px solid gray;flex-grow: 1;}#sk-container-id-1 div.sk-label:hover label.sk-toggleable__label {background-color: #d4ebff;}#sk-container-id-1 div.sk-serial::before {content: \"\";position: absolute;border-left: 1px solid gray;box-sizing: border-box;top: 0;bottom: 0;left: 50%;z-index: 0;}#sk-container-id-1 div.sk-serial {display: flex;flex-direction: column;align-items: center;background-color: white;padding-right: 0.2em;padding-left: 0.2em;position: relative;}#sk-container-id-1 div.sk-item {position: relative;z-index: 1;}#sk-container-id-1 div.sk-parallel {display: flex;align-items: stretch;justify-content: center;background-color: white;position: relative;}#sk-container-id-1 div.sk-item::before, #sk-container-id-1 div.sk-parallel-item::before {content: \"\";position: absolute;border-left: 1px solid gray;box-sizing: border-box;top: 0;bottom: 0;left: 50%;z-index: -1;}#sk-container-id-1 div.sk-parallel-item {display: flex;flex-direction: column;z-index: 1;position: relative;background-color: white;}#sk-container-id-1 div.sk-parallel-item:first-child::after {align-self: flex-end;width: 50%;}#sk-container-id-1 div.sk-parallel-item:last-child::after {align-self: flex-start;width: 50%;}#sk-container-id-1 div.sk-parallel-item:only-child::after {width: 0;}#sk-container-id-1 div.sk-dashed-wrapped {border: 1px dashed gray;margin: 0 0.4em 0.5em 0.4em;box-sizing: border-box;padding-bottom: 0.4em;background-color: white;}#sk-container-id-1 div.sk-label label {font-family: monospace;font-weight: bold;display: inline-block;line-height: 1.2em;}#sk-container-id-1 div.sk-label-container {text-align: center;}#sk-container-id-1 div.sk-container {/* jupyter's `normalize.less` sets `[hidden] { display: none; }` but bootstrap.min.css set `[hidden] { display: none !important; }` so we also need the `!important` here to be able to override the default hidden behavior on the sphinx rendered scikit-learn.org. See: https://github.com/scikit-learn/scikit-learn/issues/21755 */display: inline-block !important;position: relative;}#sk-container-id-1 div.sk-text-repr-fallback {display: none;}</style><div id=\"sk-container-id-1\" class=\"sk-top-container\"><div class=\"sk-text-repr-fallback\"><pre>LinearRegression()</pre><b>In a Jupyter environment, please rerun this cell to show the HTML representation or trust the notebook. <br />On GitHub, the HTML representation is unable to render, please try loading this page with nbviewer.org.</b></div><div class=\"sk-container\" hidden><div class=\"sk-item\"><div class=\"sk-estimator sk-toggleable\"><input class=\"sk-toggleable__control sk-hidden--visually\" id=\"sk-estimator-id-1\" type=\"checkbox\" checked><label for=\"sk-estimator-id-1\" class=\"sk-toggleable__label sk-toggleable__label-arrow\">LinearRegression</label><div class=\"sk-toggleable__content\"><pre>LinearRegression()</pre></div></div></div></div></div>"
      ],
      "text/plain": [
       "LinearRegression()"
      ]
     },
     "execution_count": 5,
     "metadata": {},
     "output_type": "execute_result"
    }
   ],
   "source": [
    "from sklearn.linear_model import LinearRegression\n",
    "alg1 = LinearRegression()\n",
    "alg1.fit(x_train, y_train)\n",
    "\n",
    "alg2 = LinearRegression()\n",
    "alg2.fit(x2_train, y2_train)"
   ]
  },
  {
   "cell_type": "code",
   "execution_count": 6,
   "id": "e763d325",
   "metadata": {},
   "outputs": [
    {
     "name": "stdout",
     "output_type": "stream",
     "text": [
      "Without adding:  0.6109633715458154 0.5911695436410469\n",
      "With adding:  0.6859342166230947 -0.7296138938915266\n"
     ]
    }
   ],
   "source": [
    "y_pred = alg1.predict(x_test)\n",
    "train_score = alg1.score(x_train, y_train) \n",
    "test_score = alg1.score(x_test, y_test)\n",
    "print(\"Without adding: \",train_score,test_score)\n",
    "\n",
    "y2_pred = alg2.predict(x2_test)\n",
    "train_score2 = alg2.score(x2_train, y2_train) \n",
    "test_score2 = alg2.score(x2_test, y2_test)\n",
    "print(\"With adding: \",train_score2,test_score2)"
   ]
  },
  {
   "cell_type": "markdown",
   "id": "703212b7",
   "metadata": {},
   "source": [
    "Adding 2 degree polinominal the training score improved but testing score reduced hugely"
   ]
  }
 ],
 "metadata": {
  "kernelspec": {
   "display_name": "Python 3 (ipykernel)",
   "language": "python",
   "name": "python3"
  },
  "language_info": {
   "codemirror_mode": {
    "name": "ipython",
    "version": 3
   },
   "file_extension": ".py",
   "mimetype": "text/x-python",
   "name": "python",
   "nbconvert_exporter": "python",
   "pygments_lexer": "ipython3",
   "version": "3.11.5"
  }
 },
 "nbformat": 4,
 "nbformat_minor": 5
}
